{
  "cells": [
    {
      "cell_type": "markdown",
      "metadata": {
        "id": "view-in-github",
        "colab_type": "text"
      },
      "source": [
        "<a href=\"https://colab.research.google.com/github/alizaasifb/Image-Classification/blob/main/Cifar10_CNN.ipynb\" target=\"_parent\"><img src=\"https://colab.research.google.com/assets/colab-badge.svg\" alt=\"Open In Colab\"/></a>"
      ]
    },
    {
      "cell_type": "code",
      "execution_count": null,
      "metadata": {
        "id": "_cPRCYemTqg9"
      },
      "outputs": [],
      "source": [
        "# STEP 1: IMPORT LIBRARIES\n",
        "\n",
        "import torch\n",
        "import torch.nn as nn\n",
        "import torchvision\n",
        "import torch.nn.functional as F\n",
        "from torch.utils.data import DataLoader\n",
        "from torchvision.datasets import ImageFolder\n",
        "from torchvision.datasets.utils import download_url\n",
        "from torchvision.transforms import ToTensor\n",
        "import tarfile\n",
        "import os"
      ]
    },
    {
      "cell_type": "code",
      "execution_count": null,
      "metadata": {
        "colab": {
          "base_uri": "https://localhost:8080/",
          "height": 66,
          "referenced_widgets": [
            "c440e0a359e74e3f99073bf2fe943cb5",
            "d7c97f85bfa34c438324e044ffaaf15c",
            "8c0bfb63956d4648ae6e47fff093c220",
            "55a831caa02341deafb7390659c6e748",
            "f7011b0377d14eefade1fcf97fd56467",
            "ea8ae4bd4b524364b3b93a0c395f6103",
            "eb92d680b68a412495c9a426288bdf7e",
            "2d54d789c60a46c78465fddd4204e2bc",
            "acc8ffe4074941bfba6754d91d9d99d6",
            "c51797b6a137446eaaf1ff58c2979924",
            "e0be6a5b81cb46608b3d75d9c53a18a8"
          ]
        },
        "id": "nNIGb6CwUL_q",
        "outputId": "22d36368-065e-4a28-b79e-0fb69f13dba9"
      },
      "outputs": [
        {
          "name": "stdout",
          "output_type": "stream",
          "text": [
            "Downloading https://s3.amazonaws.com/fast-ai-imageclas/cifar10.tgz to ./cifar10.tgz\n"
          ]
        },
        {
          "data": {
            "application/vnd.jupyter.widget-view+json": {
              "model_id": "c440e0a359e74e3f99073bf2fe943cb5",
              "version_major": 2,
              "version_minor": 0
            },
            "text/plain": [
              "  0%|          | 0/135107811 [00:00<?, ?it/s]"
            ]
          },
          "metadata": {},
          "output_type": "display_data"
        }
      ],
      "source": [
        "# STEP 2: # STEP 2: DOWNLOAD / LOAD THE DATASET\n",
        "\n",
        "dataset_url = \"https://s3.amazonaws.com/fast-ai-imageclas/cifar10.tgz\"\n",
        "download_url(dataset_url, '.')\n",
        "\n",
        "with tarfile.open('./cifar10.tgz', 'r:gz') as tar:\n",
        "    tar.extractall(path='./data')\n",
        "\n",
        "train_ds = ImageFolder('./data/cifar10/train', transform=ToTensor())\n",
        "test_ds = ImageFolder('./data/cifar10/test', transform=ToTensor())\n",
        "\n",
        "batch_size = 128\n",
        "train_loader = DataLoader(train_ds, batch_size, shuffle=True)\n",
        "test_loader = DataLoader(test_ds, batch_size*2, shuffle=True)"
      ]
    },
    {
      "cell_type": "code",
      "execution_count": null,
      "metadata": {
        "id": "kAk1TVGpUXDo"
      },
      "outputs": [],
      "source": [
        "# STEP 3: SET DEVICE CUDA FOR GPU IF AVAILABLE, ELSE USE GPU\n",
        "\n",
        "if torch.cuda.is_available():\n",
        "  device = torch.device(\"cuda\")\n",
        "else:\n",
        "  device = torch.device(\"cpu\")"
      ]
    },
    {
      "cell_type": "code",
      "execution_count": null,
      "metadata": {
        "id": "AWmbO6O4Um90"
      },
      "outputs": [],
      "source": [
        "# STEP 4: DEFINE MODEL ARCHITECTURE AND INITIALIZE THE MODEL\n",
        "\n",
        "def ConvLayer(inp, out, ks=3, s=1, p=1):\n",
        "  return nn.Conv2d(inp, out, kernel_size=ks, stride=s, padding=p)\n",
        "\n",
        "class CIFAR10(nn.Module):\n",
        "  def __init__(self):\n",
        "    super().__init__()\n",
        "    self.neural_net = nn.Sequential(\n",
        "        ConvLayer(3, 32), nn.ReLU(),\n",
        "        ConvLayer(32, 64), nn.ReLU(),\n",
        "        nn.MaxPool2d(2, 2), # 16\n",
        "        ConvLayer(64, 128), nn.ReLU(),\n",
        "        ConvLayer(128, 256), nn.ReLU(),\n",
        "        nn.MaxPool2d(2, 2), # 8\n",
        "        ConvLayer(256, 512), nn.ReLU(),\n",
        "        ConvLayer(512, 1024), nn.ReLU(),\n",
        "        nn.MaxPool2d(2, 2), # 4\n",
        "        nn.Flatten(),\n",
        "        nn.Linear(1024*4*4, 1024), nn.ReLU(),\n",
        "        nn.Linear(1024, 512), nn.ReLU(),\n",
        "        nn.Linear(512, 10)\n",
        "    )\n",
        "  def forward(self, x):\n",
        "    return self.neural_net(x)\n",
        "\n",
        "model = CIFAR10().to(device)"
      ]
    },
    {
      "cell_type": "code",
      "execution_count": null,
      "metadata": {
        "id": "F6c_cVwrVcrn"
      },
      "outputs": [],
      "source": [
        "# STEP 5: DEFINE THE ACCURACY SCORE\n",
        "\n",
        "def accuracy_score(out, labels):\n",
        "  _, preds = torch.max(out, dim=1)\n",
        "  correct_preds = torch.sum(preds==labels).item()\n",
        "  total_preds = len(preds)\n",
        "  accuracy = torch.tensor(correct_preds/total_preds)\n",
        "  return accuracy"
      ]
    },
    {
      "cell_type": "code",
      "execution_count": null,
      "metadata": {
        "colab": {
          "background_save": true,
          "base_uri": "https://localhost:8080/"
        },
        "id": "Y_SHzvxWV5J7",
        "outputId": "65f01979-b632-4fb2-d2ae-bc74a2082871"
      },
      "outputs": [
        {
          "name": "stdout",
          "output_type": "stream",
          "text": [
            "Epoch Number:  0  | Testing Accuracy Score:  tensor(0.4780)\n",
            "Epoch Number:  1  | Testing Accuracy Score:  tensor(0.5920)\n",
            "Epoch Number:  2  | Testing Accuracy Score:  tensor(0.6727)\n",
            "Epoch Number:  3  | Testing Accuracy Score:  tensor(0.7111)\n",
            "Epoch Number:  4  | Testing Accuracy Score:  tensor(0.7506)\n",
            "Epoch Number:  5  | Testing Accuracy Score:  tensor(0.7594)\n",
            "Epoch Number:  6  | Testing Accuracy Score:  tensor(0.7651)\n",
            "Epoch Number:  7  | Testing Accuracy Score:  tensor(0.7711)\n",
            "Epoch Number:  8  | Testing Accuracy Score:  tensor(0.7841)\n",
            "Epoch Number:  9  | Testing Accuracy Score:  tensor(0.7670)\n"
          ]
        }
      ],
      "source": [
        "# STEP 6: TRAIN THE MODEL\n",
        "\n",
        "num_epochs = 10\n",
        "learning_rate = 0.0003\n",
        "loss_func = nn.CrossEntropyLoss()\n",
        "optimizer = torch.optim.Adam(model.parameters(), lr=learning_rate)\n",
        "\n",
        "for epoch in range(num_epochs):\n",
        "  total_testing_accuracies = []\n",
        "  for img, labels in train_loader:\n",
        "    img = img.to(device)\n",
        "    labels = labels.to(device)\n",
        "    pred = model(img)\n",
        "    loss = loss_func(pred, labels)\n",
        "    loss.backward()\n",
        "    optimizer.step()\n",
        "    optimizer.zero_grad()\n",
        "  for test_img, test_labels in test_loader:\n",
        "    test_img = test_img.to(device)\n",
        "    test_labels = test_labels.to(device)\n",
        "    test_preds = model(test_img)\n",
        "    metrics = accuracy_score(test_preds, test_labels)\n",
        "    total_testing_accuracies.append(metrics)\n",
        "  print(\"Epoch Number: \", epoch, \" | Testing Accuracy Score: \", sum(total_testing_accuracies)/len(total_testing_accuracies))"
      ]
    },
    {
      "cell_type": "code",
      "execution_count": null,
      "metadata": {
        "colab": {
          "background_save": true
        },
        "id": "tL2QLMeoXzHi",
        "outputId": "54a4f00b-34f4-4509-8a9c-e992a6915ee5"
      },
      "outputs": [
        {
          "name": "stdout",
          "output_type": "stream",
          "text": [
            "Label: ship , Predicted: ship\n"
          ]
        },
        {
          "data": {
            "image/png": "[encoded data removed]",
            "text/plain": [
              "<Figure size 432x288 with 1 Axes>"
            ]
          },
          "metadata": {},
          "output_type": "display_data"
        }
      ],
      "source": [
        "# STEP 7: GET FEW PREDICTIONS ON TESTING IMAGES\n",
        "\n",
        "import os\n",
        "data_dir = './data/cifar10'\n",
        "classes = os.listdir(data_dir + \"/train\")\n",
        "\n",
        "def predict_image(img, model):\n",
        "    img = img.unsqueeze(0).to(device)\n",
        "    out = model(img)\n",
        "    _, preds  = torch.max(out, dim=1)\n",
        "    return train_ds.classes[preds[0].item()]\n",
        "\n",
        "import matplotlib.pyplot as plt\n",
        "img, label = test_ds[8367]\n",
        "plt.imshow(img.permute(1, 2, 0))\n",
        "print('Label:', train_ds.classes[label], ', Predicted:', predict_image(img, model))"
      ]
    },
    {
      "cell_type": "code",
      "execution_count": null,
      "metadata": {
        "colab": {
          "background_save": true
        },
        "id": "NfMzU9VD_Au7"
      },
      "outputs": [],
      "source": []
    }
  ],
  "metadata": {
    "accelerator": "GPU",
    "colab": {
      "provenance": [],
      "authorship_tag": "ABX9TyMwhtVfHubQyTn+TnRvjDOI",
      "include_colab_link": true
    },
    "gpuClass": "standard",
    "kernelspec": {
      "display_name": "Python 3",
      "name": "python3"
    },
    "language_info": {
      "name": "python"
    },
    "widgets": {
      "application/vnd.jupyter.widget-state+json": {
        "2d54d789c60a46c78465fddd4204e2bc": {
          "model_module": "@jupyter-widgets/base",
          "model_module_version": "1.2.0",
          "model_name": "LayoutModel",
          "state": {
            "_model_module": "@jupyter-widgets/base",
            "_model_module_version": "1.2.0",
            "_model_name": "LayoutModel",
            "_view_count": null,
            "_view_module": "@jupyter-widgets/base",
            "_view_module_version": "1.2.0",
            "_view_name": "LayoutView",
            "align_content": null,
            "align_items": null,
            "align_self": null,
            "border": null,
            "bottom": null,
            "display": null,
            "flex": null,
            "flex_flow": null,
            "grid_area": null,
            "grid_auto_columns": null,
            "grid_auto_flow": null,
            "grid_auto_rows": null,
            "grid_column": null,
            "grid_gap": null,
            "grid_row": null,
            "grid_template_areas": null,
            "grid_template_columns": null,
            "grid_template_rows": null,
            "height": null,
            "justify_content": null,
            "justify_items": null,
            "left": null,
            "margin": null,
            "max_height": null,
            "max_width": null,
            "min_height": null,
            "min_width": null,
            "object_fit": null,
            "object_position": null,
            "order": null,
            "overflow": null,
            "overflow_x": null,
            "overflow_y": null,
            "padding": null,
            "right": null,
            "top": null,
            "visibility": null,
            "width": null
          }
        },
        "55a831caa02341deafb7390659c6e748": {
          "model_module": "@jupyter-widgets/controls",
          "model_module_version": "1.5.0",
          "model_name": "HTMLModel",
          "state": {
            "_dom_classes": [],
            "_model_module": "@jupyter-widgets/controls",
            "_model_module_version": "1.5.0",
            "_model_name": "HTMLModel",
            "_view_count": null,
            "_view_module": "@jupyter-widgets/controls",
            "_view_module_version": "1.5.0",
            "_view_name": "HTMLView",
            "description": "",
            "description_tooltip": null,
            "layout": "IPY_MODEL_c51797b6a137446eaaf1ff58c2979924",
            "placeholder": "​",
            "style": "IPY_MODEL_e0be6a5b81cb46608b3d75d9c53a18a8",
            "value": " 135107811/135107811 [00:01&lt;00:00, 80513594.02it/s]"
          }
        },
        "8c0bfb63956d4648ae6e47fff093c220": {
          "model_module": "@jupyter-widgets/controls",
          "model_module_version": "1.5.0",
          "model_name": "FloatProgressModel",
          "state": {
            "_dom_classes": [],
            "_model_module": "@jupyter-widgets/controls",
            "_model_module_version": "1.5.0",
            "_model_name": "FloatProgressModel",
            "_view_count": null,
            "_view_module": "@jupyter-widgets/controls",
            "_view_module_version": "1.5.0",
            "_view_name": "ProgressView",
            "bar_style": "success",
            "description": "",
            "description_tooltip": null,
            "layout": "IPY_MODEL_2d54d789c60a46c78465fddd4204e2bc",
            "max": 135107811,
            "min": 0,
            "orientation": "horizontal",
            "style": "IPY_MODEL_acc8ffe4074941bfba6754d91d9d99d6",
            "value": 135107811
          }
        },
        "acc8ffe4074941bfba6754d91d9d99d6": {
          "model_module": "@jupyter-widgets/controls",
          "model_module_version": "1.5.0",
          "model_name": "ProgressStyleModel",
          "state": {
            "_model_module": "@jupyter-widgets/controls",
            "_model_module_version": "1.5.0",
            "_model_name": "ProgressStyleModel",
            "_view_count": null,
            "_view_module": "@jupyter-widgets/base",
            "_view_module_version": "1.2.0",
            "_view_name": "StyleView",
            "bar_color": null,
            "description_width": ""
          }
        },
        "c440e0a359e74e3f99073bf2fe943cb5": {
          "model_module": "@jupyter-widgets/controls",
          "model_module_version": "1.5.0",
          "model_name": "HBoxModel",
          "state": {
            "_dom_classes": [],
            "_model_module": "@jupyter-widgets/controls",
            "_model_module_version": "1.5.0",
            "_model_name": "HBoxModel",
            "_view_count": null,
            "_view_module": "@jupyter-widgets/controls",
            "_view_module_version": "1.5.0",
            "_view_name": "HBoxView",
            "box_style": "",
            "children": [
              "IPY_MODEL_d7c97f85bfa34c438324e044ffaaf15c",
              "IPY_MODEL_8c0bfb63956d4648ae6e47fff093c220",
              "IPY_MODEL_55a831caa02341deafb7390659c6e748"
            ],
            "layout": "IPY_MODEL_f7011b0377d14eefade1fcf97fd56467"
          }
        },
        "c51797b6a137446eaaf1ff58c2979924": {
          "model_module": "@jupyter-widgets/base",
          "model_module_version": "1.2.0",
          "model_name": "LayoutModel",
          "state": {
            "_model_module": "@jupyter-widgets/base",
            "_model_module_version": "1.2.0",
            "_model_name": "LayoutModel",
            "_view_count": null,
            "_view_module": "@jupyter-widgets/base",
            "_view_module_version": "1.2.0",
            "_view_name": "LayoutView",
            "align_content": null,
            "align_items": null,
            "align_self": null,
            "border": null,
            "bottom": null,
            "display": null,
            "flex": null,
            "flex_flow": null,
            "grid_area": null,
            "grid_auto_columns": null,
            "grid_auto_flow": null,
            "grid_auto_rows": null,
            "grid_column": null,
            "grid_gap": null,
            "grid_row": null,
            "grid_template_areas": null,
            "grid_template_columns": null,
            "grid_template_rows": null,
            "height": null,
            "justify_content": null,
            "justify_items": null,
            "left": null,
            "margin": null,
            "max_height": null,
            "max_width": null,
            "min_height": null,
            "min_width": null,
            "object_fit": null,
            "object_position": null,
            "order": null,
            "overflow": null,
            "overflow_x": null,
            "overflow_y": null,
            "padding": null,
            "right": null,
            "top": null,
            "visibility": null,
            "width": null
          }
        },
        "d7c97f85bfa34c438324e044ffaaf15c": {
          "model_module": "@jupyter-widgets/controls",
          "model_module_version": "1.5.0",
          "model_name": "HTMLModel",
          "state": {
            "_dom_classes": [],
            "_model_module": "@jupyter-widgets/controls",
            "_model_module_version": "1.5.0",
            "_model_name": "HTMLModel",
            "_view_count": null,
            "_view_module": "@jupyter-widgets/controls",
            "_view_module_version": "1.5.0",
            "_view_name": "HTMLView",
            "description": "",
            "description_tooltip": null,
            "layout": "IPY_MODEL_ea8ae4bd4b524364b3b93a0c395f6103",
            "placeholder": "​",
            "style": "IPY_MODEL_eb92d680b68a412495c9a426288bdf7e",
            "value": "100%"
          }
        },
        "e0be6a5b81cb46608b3d75d9c53a18a8": {
          "model_module": "@jupyter-widgets/controls",
          "model_module_version": "1.5.0",
          "model_name": "DescriptionStyleModel",
          "state": {
            "_model_module": "@jupyter-widgets/controls",
            "_model_module_version": "1.5.0",
            "_model_name": "DescriptionStyleModel",
            "_view_count": null,
            "_view_module": "@jupyter-widgets/base",
            "_view_module_version": "1.2.0",
            "_view_name": "StyleView",
            "description_width": ""
          }
        },
        "ea8ae4bd4b524364b3b93a0c395f6103": {
          "model_module": "@jupyter-widgets/base",
          "model_module_version": "1.2.0",
          "model_name": "LayoutModel",
          "state": {
            "_model_module": "@jupyter-widgets/base",
            "_model_module_version": "1.2.0",
            "_model_name": "LayoutModel",
            "_view_count": null,
            "_view_module": "@jupyter-widgets/base",
            "_view_module_version": "1.2.0",
            "_view_name": "LayoutView",
            "align_content": null,
            "align_items": null,
            "align_self": null,
            "border": null,
            "bottom": null,
            "display": null,
            "flex": null,
            "flex_flow": null,
            "grid_area": null,
            "grid_auto_columns": null,
            "grid_auto_flow": null,
            "grid_auto_rows": null,
            "grid_column": null,
            "grid_gap": null,
            "grid_row": null,
            "grid_template_areas": null,
            "grid_template_columns": null,
            "grid_template_rows": null,
            "height": null,
            "justify_content": null,
            "justify_items": null,
            "left": null,
            "margin": null,
            "max_height": null,
            "max_width": null,
            "min_height": null,
            "min_width": null,
            "object_fit": null,
            "object_position": null,
            "order": null,
            "overflow": null,
            "overflow_x": null,
            "overflow_y": null,
            "padding": null,
            "right": null,
            "top": null,
            "visibility": null,
            "width": null
          }
        },
        "eb92d680b68a412495c9a426288bdf7e": {
          "model_module": "@jupyter-widgets/controls",
          "model_module_version": "1.5.0",
          "model_name": "DescriptionStyleModel",
          "state": {
            "_model_module": "@jupyter-widgets/controls",
            "_model_module_version": "1.5.0",
            "_model_name": "DescriptionStyleModel",
            "_view_count": null,
            "_view_module": "@jupyter-widgets/base",
            "_view_module_version": "1.2.0",
            "_view_name": "StyleView",
            "description_width": ""
          }
        },
        "f7011b0377d14eefade1fcf97fd56467": {
          "model_module": "@jupyter-widgets/base",
          "model_module_version": "1.2.0",
          "model_name": "LayoutModel",
          "state": {
            "_model_module": "@jupyter-widgets/base",
            "_model_module_version": "1.2.0",
            "_model_name": "LayoutModel",
            "_view_count": null,
            "_view_module": "@jupyter-widgets/base",
            "_view_module_version": "1.2.0",
            "_view_name": "LayoutView",
            "align_content": null,
            "align_items": null,
            "align_self": null,
            "border": null,
            "bottom": null,
            "display": null,
            "flex": null,
            "flex_flow": null,
            "grid_area": null,
            "grid_auto_columns": null,
            "grid_auto_flow": null,
            "grid_auto_rows": null,
            "grid_column": null,
            "grid_gap": null,
            "grid_row": null,
            "grid_template_areas": null,
            "grid_template_columns": null,
            "grid_template_rows": null,
            "height": null,
            "justify_content": null,
            "justify_items": null,
            "left": null,
            "margin": null,
            "max_height": null,
            "max_width": null,
            "min_height": null,
            "min_width": null,
            "object_fit": null,
            "object_position": null,
            "order": null,
            "overflow": null,
            "overflow_x": null,
            "overflow_y": null,
            "padding": null,
            "right": null,
            "top": null,
            "visibility": null,
            "width": null
          }
        }
      }
    }
  },
  "nbformat": 4,
  "nbformat_minor": 0
}